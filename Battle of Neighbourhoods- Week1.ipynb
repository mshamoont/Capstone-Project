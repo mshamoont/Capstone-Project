{
 "cells": [
  {
   "cell_type": "markdown",
   "metadata": {},
   "source": [
    "# Battle of Neighbourhoods"
   ]
  },
  {
   "cell_type": "markdown",
   "metadata": {},
   "source": [
    "# Introduction/ Business Problem"
   ]
  },
  {
   "cell_type": "markdown",
   "metadata": {},
   "source": [
    "## Background: Booming consumerism of Paksitan"
   ]
  },
  {
   "cell_type": "markdown",
   "metadata": {},
   "source": [
    "Pakistan is categorized as an emerging country with average age population of 24. With incresing income per capita and youth, consumerism is growing double digits and likely to continue so in coming years. Culturally, South Asians love food and like hanging out over lunch/ dinners and hence decent chunk of disposable income is spent on eating out. I intend to open a Thai cuisines restaurant in the capital city of Pakistan, Islamabad. With diversified population of Diplomats, goernment officials, businessmen and students, Thai cusinies are likely to do well. "
   ]
  },
  {
   "cell_type": "markdown",
   "metadata": {},
   "source": [
    "## Business Problem: Where to open restaurant in Islamabad"
   ]
  },
  {
   "cell_type": "markdown",
   "metadata": {},
   "source": [
    "To succeed in food business its important to choose a location where there is more population and less restaurants. We intend to choose a location best suited for a new restaurant."
   ]
  },
  {
   "cell_type": "markdown",
   "metadata": {},
   "source": [
    "## Interested Audience"
   ]
  },
  {
   "cell_type": "markdown",
   "metadata": {},
   "source": [
    "Anyone looking to open a new restaurant is a target audience. It can also help people to choose which retaurants are located where and what option do they have if they want to dine out."
   ]
  },
  {
   "cell_type": "markdown",
   "metadata": {},
   "source": [
    "# Data section"
   ]
  },
  {
   "cell_type": "markdown",
   "metadata": {},
   "source": [
    "## Data Sources"
   ]
  },
  {
   "cell_type": "markdown",
   "metadata": {},
   "source": [
    "1) Neighbourhoods/ Councils in Islamabad to find number and type of restaurants concertaion: https://en.wikipedia.org/wiki/Islamabad_Capital_Territory\n",
    "2) Four square API data"
   ]
  },
  {
   "cell_type": "markdown",
   "metadata": {},
   "source": [
    "## How data will be used"
   ]
  },
  {
   "cell_type": "markdown",
   "metadata": {},
   "source": [
    "Using Foursquare API, each council will be clustered with concentration of restaurants and cuisines. The data for neighbourhoods used will be scraped through a wikipedia site (https://en.wikipedia.org/wiki/Islamabad_Capital_Territory). The processing of data will help in identifying 1) Which Council has less concentration of restaurants, 2) Have most offices and Universities and 3) Types of Cuisines. "
   ]
  },
  {
   "cell_type": "markdown",
   "metadata": {},
   "source": [
    "### First Importing required Liabraries:"
   ]
  },
  {
   "cell_type": "code",
   "execution_count": 10,
   "metadata": {},
   "outputs": [
    {
     "name": "stdout",
     "output_type": "stream",
     "text": [
      "Requirement already satisfied: geocoder in ./opt/anaconda3/lib/python3.7/site-packages (1.38.1)\n",
      "Requirement already satisfied: click in ./opt/anaconda3/lib/python3.7/site-packages (from geocoder) (7.0)\n",
      "Requirement already satisfied: ratelim in ./opt/anaconda3/lib/python3.7/site-packages (from geocoder) (0.1.6)\n",
      "Requirement already satisfied: future in ./opt/anaconda3/lib/python3.7/site-packages (from geocoder) (0.17.1)\n",
      "Requirement already satisfied: requests in ./opt/anaconda3/lib/python3.7/site-packages (from geocoder) (2.22.0)\n",
      "Requirement already satisfied: six in ./opt/anaconda3/lib/python3.7/site-packages (from geocoder) (1.12.0)\n",
      "Requirement already satisfied: decorator in ./opt/anaconda3/lib/python3.7/site-packages (from ratelim->geocoder) (4.4.0)\n",
      "Requirement already satisfied: chardet<3.1.0,>=3.0.2 in ./opt/anaconda3/lib/python3.7/site-packages (from requests->geocoder) (3.0.4)\n",
      "Requirement already satisfied: urllib3!=1.25.0,!=1.25.1,<1.26,>=1.21.1 in ./opt/anaconda3/lib/python3.7/site-packages (from requests->geocoder) (1.24.2)\n",
      "Requirement already satisfied: idna<2.9,>=2.5 in ./opt/anaconda3/lib/python3.7/site-packages (from requests->geocoder) (2.8)\n",
      "Requirement already satisfied: certifi>=2017.4.17 in ./opt/anaconda3/lib/python3.7/site-packages (from requests->geocoder) (2019.9.11)\n",
      "Libraries imported.\n"
     ]
    }
   ],
   "source": [
    "import numpy as np # library to handle data in a vectorized manner\n",
    "\n",
    "import pandas as pd # library for data analsysis\n",
    "pd.set_option(\"display.max_columns\", None)\n",
    "pd.set_option(\"display.max_rows\", None)\n",
    "\n",
    "import json # library to handle JSON files\n",
    "\n",
    "from geopy.geocoders import Nominatim # convert an address into latitude and longitude values\n",
    "!pip install geocoder\n",
    "import geocoder\n",
    "\n",
    "import requests # library to handle requests\n",
    "from bs4 import BeautifulSoup # library to parse HTML and XML documents\n",
    "\n",
    "from pandas.io.json import json_normalize # tranform JSON file into a pandas dataframe\n",
    "\n",
    "# Matplotlib and associated plotting modules\n",
    "import matplotlib.cm as cm\n",
    "import matplotlib.colors as colors\n",
    "\n",
    "# import k-means from clustering stage\n",
    "from sklearn.cluster import KMeans\n",
    "\n",
    "import folium # map rendering library\n",
    "\n",
    "print(\"Libraries imported.\")"
   ]
  },
  {
   "cell_type": "markdown",
   "metadata": {},
   "source": [
    "### Scraping data"
   ]
  },
  {
   "cell_type": "code",
   "execution_count": 4,
   "metadata": {},
   "outputs": [
    {
     "data": {
      "text/plain": [
       "['Baldia Town',\n",
       " 'Bin Qasim Town',\n",
       " 'Gadap Town',\n",
       " 'Gulberg Town',\n",
       " 'Gulshan Town',\n",
       " 'Jamshed Town',\n",
       " 'Kiamari Town',\n",
       " 'Korangi Town',\n",
       " 'Landhi Town',\n",
       " 'Liaquatabad Town',\n",
       " 'Lyari Town',\n",
       " 'Malir Town',\n",
       " 'New Karachi Town',\n",
       " 'North Nazimabad Town',\n",
       " 'Orangi Town',\n",
       " 'Saddar Town',\n",
       " 'Shah Faisal Town',\n",
       " 'SITE Town']"
      ]
     },
     "execution_count": 4,
     "metadata": {},
     "output_type": "execute_result"
    }
   ],
   "source": [
    "url= requests.get('https://en.wikipedia.org/wiki/Towns_in_Karachi#Karachi_Towns').text\n",
    "soup= BeautifulSoup(url, 'html.parser')\n",
    "table=soup.find('table', class_='multicol')\n",
    "data= table.find_all('a')\n",
    "Councils= []\n",
    "\n",
    "for i in range(0, len(data)):\n",
    "    Councils.append(data[i].text.strip())\n",
    "\n",
    "    \n",
    "Councils"
   ]
  },
  {
   "cell_type": "code",
   "execution_count": 5,
   "metadata": {
    "scrolled": true
   },
   "outputs": [
    {
     "data": {
      "text/html": [
       "<div>\n",
       "<style scoped>\n",
       "    .dataframe tbody tr th:only-of-type {\n",
       "        vertical-align: middle;\n",
       "    }\n",
       "\n",
       "    .dataframe tbody tr th {\n",
       "        vertical-align: top;\n",
       "    }\n",
       "\n",
       "    .dataframe thead th {\n",
       "        text-align: right;\n",
       "    }\n",
       "</style>\n",
       "<table border=\"1\" class=\"dataframe\">\n",
       "  <thead>\n",
       "    <tr style=\"text-align: right;\">\n",
       "      <th></th>\n",
       "      <th>Neighbourhood</th>\n",
       "    </tr>\n",
       "  </thead>\n",
       "  <tbody>\n",
       "    <tr>\n",
       "      <td>0</td>\n",
       "      <td>Baldia Town</td>\n",
       "    </tr>\n",
       "    <tr>\n",
       "      <td>1</td>\n",
       "      <td>Bin Qasim Town</td>\n",
       "    </tr>\n",
       "    <tr>\n",
       "      <td>2</td>\n",
       "      <td>Gadap Town</td>\n",
       "    </tr>\n",
       "    <tr>\n",
       "      <td>3</td>\n",
       "      <td>Gulberg Town</td>\n",
       "    </tr>\n",
       "    <tr>\n",
       "      <td>4</td>\n",
       "      <td>Gulshan Town</td>\n",
       "    </tr>\n",
       "  </tbody>\n",
       "</table>\n",
       "</div>"
      ],
      "text/plain": [
       "    Neighbourhood\n",
       "0     Baldia Town\n",
       "1  Bin Qasim Town\n",
       "2      Gadap Town\n",
       "3    Gulberg Town\n",
       "4    Gulshan Town"
      ]
     },
     "execution_count": 5,
     "metadata": {},
     "output_type": "execute_result"
    }
   ],
   "source": [
    "df_Khi= pd.DataFrame({\"Neighbourhood\":Councils})\n",
    "df_Khi.head()"
   ]
  },
  {
   "cell_type": "code",
   "execution_count": 202,
   "metadata": {},
   "outputs": [
    {
     "data": {
      "text/plain": [
       "(18, 1)"
      ]
     },
     "execution_count": 202,
     "metadata": {},
     "output_type": "execute_result"
    }
   ],
   "source": [
    "df_Khi.shape"
   ]
  },
  {
   "cell_type": "markdown",
   "metadata": {},
   "source": [
    "### Getting coordinates"
   ]
  },
  {
   "cell_type": "code",
   "execution_count": 6,
   "metadata": {},
   "outputs": [],
   "source": [
    "# define a function to get coordinates\n",
    "def get_latlng(neighborhood):\n",
    "    # initialize your variable to None\n",
    "    lat_lng_coords = None\n",
    "    # loop until you get the coordinates\n",
    "    while(lat_lng_coords is None):\n",
    "        g = geocoder.arcgis('{}, Karachi, Pakistan'.format(neighborhood))\n",
    "        lat_lng_coords = g.latlng\n",
    "    return lat_lng_coords"
   ]
  },
  {
   "cell_type": "code",
   "execution_count": null,
   "metadata": {},
   "outputs": [],
   "source": []
  },
  {
   "cell_type": "code",
   "execution_count": 11,
   "metadata": {
    "scrolled": true
   },
   "outputs": [
    {
     "data": {
      "text/plain": [
       "[[24.928600000000074, 66.99470000000008],\n",
       " [24.90560000000005, 67.08220000000006],\n",
       " [24.90560000000005, 67.08220000000006],\n",
       " [24.90560000000005, 67.08220000000006],\n",
       " [24.90560000000005, 67.08220000000006],\n",
       " [24.90560000000005, 67.08220000000006],\n",
       " [24.90560000000005, 67.08220000000006],\n",
       " [24.90560000000005, 67.08220000000006],\n",
       " [24.90560000000005, 67.08220000000006],\n",
       " [24.900600000000054, 67.04750000000007],\n",
       " [24.90560000000005, 67.08220000000006],\n",
       " [24.90560000000005, 67.08220000000006],\n",
       " [24.90560000000005, 67.08220000000006],\n",
       " [24.927440000000047, 67.03479000000004],\n",
       " [24.958150000000046, 66.99139000000008],\n",
       " [24.90560000000005, 67.08220000000006],\n",
       " [24.893500000000074, 67.17510000000004],\n",
       " [24.90560000000005, 67.08220000000006]]"
      ]
     },
     "execution_count": 11,
     "metadata": {},
     "output_type": "execute_result"
    }
   ],
   "source": [
    "coordinates= [get_latlng(neighborhood) for neighborhood in df_Khi[\"Neighbourhood\"].tolist()]\n",
    "coordinates"
   ]
  },
  {
   "cell_type": "markdown",
   "metadata": {},
   "source": [
    "### Adding coordinates "
   ]
  },
  {
   "cell_type": "code",
   "execution_count": 12,
   "metadata": {
    "scrolled": true
   },
   "outputs": [
    {
     "data": {
      "text/html": [
       "<div>\n",
       "<style scoped>\n",
       "    .dataframe tbody tr th:only-of-type {\n",
       "        vertical-align: middle;\n",
       "    }\n",
       "\n",
       "    .dataframe tbody tr th {\n",
       "        vertical-align: top;\n",
       "    }\n",
       "\n",
       "    .dataframe thead th {\n",
       "        text-align: right;\n",
       "    }\n",
       "</style>\n",
       "<table border=\"1\" class=\"dataframe\">\n",
       "  <thead>\n",
       "    <tr style=\"text-align: right;\">\n",
       "      <th></th>\n",
       "      <th>Neighbourhood</th>\n",
       "      <th>Latitude</th>\n",
       "      <th>Longitude</th>\n",
       "    </tr>\n",
       "  </thead>\n",
       "  <tbody>\n",
       "    <tr>\n",
       "      <td>0</td>\n",
       "      <td>Baldia Town</td>\n",
       "      <td>24.9286</td>\n",
       "      <td>66.9947</td>\n",
       "    </tr>\n",
       "    <tr>\n",
       "      <td>1</td>\n",
       "      <td>Bin Qasim Town</td>\n",
       "      <td>24.9056</td>\n",
       "      <td>67.0822</td>\n",
       "    </tr>\n",
       "    <tr>\n",
       "      <td>2</td>\n",
       "      <td>Gadap Town</td>\n",
       "      <td>24.9056</td>\n",
       "      <td>67.0822</td>\n",
       "    </tr>\n",
       "    <tr>\n",
       "      <td>3</td>\n",
       "      <td>Gulberg Town</td>\n",
       "      <td>24.9056</td>\n",
       "      <td>67.0822</td>\n",
       "    </tr>\n",
       "    <tr>\n",
       "      <td>4</td>\n",
       "      <td>Gulshan Town</td>\n",
       "      <td>24.9056</td>\n",
       "      <td>67.0822</td>\n",
       "    </tr>\n",
       "  </tbody>\n",
       "</table>\n",
       "</div>"
      ],
      "text/plain": [
       "    Neighbourhood  Latitude  Longitude\n",
       "0     Baldia Town   24.9286    66.9947\n",
       "1  Bin Qasim Town   24.9056    67.0822\n",
       "2      Gadap Town   24.9056    67.0822\n",
       "3    Gulberg Town   24.9056    67.0822\n",
       "4    Gulshan Town   24.9056    67.0822"
      ]
     },
     "execution_count": 12,
     "metadata": {},
     "output_type": "execute_result"
    }
   ],
   "source": [
    "df_coords=pd.DataFrame(coordinates, columns=['Latitude', 'Longitude'])\n",
    "\n",
    "df_Khi['Latitude']=df_coords['Latitude']\n",
    "df_Khi['Longitude']=df_coords['Longitude']\n",
    "df_Khi.head()"
   ]
  },
  {
   "cell_type": "code",
   "execution_count": 24,
   "metadata": {},
   "outputs": [
    {
     "data": {
      "text/plain": [
       "Neighbourhood    18\n",
       "Latitude          6\n",
       "Longitude         6\n",
       "dtype: int64"
      ]
     },
     "execution_count": 24,
     "metadata": {},
     "output_type": "execute_result"
    }
   ],
   "source": [
    "df_Khi.nunique()"
   ]
  },
  {
   "cell_type": "markdown",
   "metadata": {},
   "source": [
    "### Converting into csv and double checking the coordinates as Google API sometimes return wrong coordinates. In this case it is returning 6 coordinates for 18 neighbiurhoods"
   ]
  },
  {
   "cell_type": "code",
   "execution_count": 25,
   "metadata": {},
   "outputs": [],
   "source": [
    "df_Khi.to_csv(\"df_Khi.csv\", index= False)"
   ]
  },
  {
   "cell_type": "markdown",
   "metadata": {},
   "source": [
    "### Opening the cleaned, ensuring correct coordinates"
   ]
  },
  {
   "cell_type": "code",
   "execution_count": 28,
   "metadata": {
    "scrolled": true
   },
   "outputs": [
    {
     "data": {
      "text/html": [
       "<div>\n",
       "<style scoped>\n",
       "    .dataframe tbody tr th:only-of-type {\n",
       "        vertical-align: middle;\n",
       "    }\n",
       "\n",
       "    .dataframe tbody tr th {\n",
       "        vertical-align: top;\n",
       "    }\n",
       "\n",
       "    .dataframe thead th {\n",
       "        text-align: right;\n",
       "    }\n",
       "</style>\n",
       "<table border=\"1\" class=\"dataframe\">\n",
       "  <thead>\n",
       "    <tr style=\"text-align: right;\">\n",
       "      <th></th>\n",
       "      <th>Neighbourhood</th>\n",
       "      <th>Latitude</th>\n",
       "      <th>Longitude</th>\n",
       "    </tr>\n",
       "  </thead>\n",
       "  <tbody>\n",
       "    <tr>\n",
       "      <td>0</td>\n",
       "      <td>Baldia Town</td>\n",
       "      <td>24.9525</td>\n",
       "      <td>66.9550</td>\n",
       "    </tr>\n",
       "    <tr>\n",
       "      <td>1</td>\n",
       "      <td>Bin Qasim Town</td>\n",
       "      <td>24.8596</td>\n",
       "      <td>67.4005</td>\n",
       "    </tr>\n",
       "    <tr>\n",
       "      <td>2</td>\n",
       "      <td>Gadap Town</td>\n",
       "      <td>25.0023</td>\n",
       "      <td>67.1321</td>\n",
       "    </tr>\n",
       "    <tr>\n",
       "      <td>3</td>\n",
       "      <td>Gulberg Town</td>\n",
       "      <td>24.9368</td>\n",
       "      <td>67.0760</td>\n",
       "    </tr>\n",
       "    <tr>\n",
       "      <td>4</td>\n",
       "      <td>Gulshan Town</td>\n",
       "      <td>24.9180</td>\n",
       "      <td>67.0971</td>\n",
       "    </tr>\n",
       "  </tbody>\n",
       "</table>\n",
       "</div>"
      ],
      "text/plain": [
       "    Neighbourhood  Latitude  Longitude\n",
       "0     Baldia Town   24.9525    66.9550\n",
       "1  Bin Qasim Town   24.8596    67.4005\n",
       "2      Gadap Town   25.0023    67.1321\n",
       "3    Gulberg Town   24.9368    67.0760\n",
       "4    Gulshan Town   24.9180    67.0971"
      ]
     },
     "execution_count": 28,
     "metadata": {},
     "output_type": "execute_result"
    }
   ],
   "source": [
    "df_khi_cleaned= pd.read_csv('df_Khi.csv')\n",
    "df_khi_cleaned.head()"
   ]
  },
  {
   "cell_type": "markdown",
   "metadata": {},
   "source": [
    "#### Now we have 18 coordinates for 18 neighbourhoods"
   ]
  },
  {
   "cell_type": "code",
   "execution_count": 29,
   "metadata": {},
   "outputs": [
    {
     "data": {
      "text/plain": [
       "Neighbourhood    18\n",
       "Latitude         18\n",
       "Longitude        18\n",
       "dtype: int64"
      ]
     },
     "execution_count": 29,
     "metadata": {},
     "output_type": "execute_result"
    }
   ],
   "source": [
    "df_khi_cleaned.nunique()"
   ]
  },
  {
   "cell_type": "markdown",
   "metadata": {},
   "source": [
    "### Create a map of Karachi and neighbourhoods super imposed"
   ]
  },
  {
   "cell_type": "code",
   "execution_count": 35,
   "metadata": {},
   "outputs": [],
   "source": [
    "latitude= 24.8607\n",
    "longitude= 67.0011"
   ]
  },
  {
   "cell_type": "code",
   "execution_count": 36,
   "metadata": {
    "scrolled": false
   },
   "outputs": [
    {
     "data": {
      "text/html": [
       "<div style=\"width:100%;\"><div style=\"position:relative;width:100%;height:0;padding-bottom:60%;\"><iframe src=\"about:blank\" style=\"position:absolute;width:100%;height:100%;left:0;top:0;border:none !important;\" data-html=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 onload=\"this.contentDocument.open();this.contentDocument.write(atob(this.getAttribute('data-html')));this.contentDocument.close();\" allowfullscreen webkitallowfullscreen mozallowfullscreen></iframe></div></div>"
      ],
      "text/plain": [
       "<folium.folium.Map at 0x1a1dc35790>"
      ]
     },
     "execution_count": 36,
     "metadata": {},
     "output_type": "execute_result"
    }
   ],
   "source": [
    "map_khi=folium.Map(location=[latitude, longitude], zoom_start=10)\n",
    "\n",
    "#superimposing neighbourhoods on the map\n",
    "\n",
    "for lat,lng,label in zip(df_khi_cleaned['Latitude'], df_khi_cleaned['Longitude'],df_khi_cleaned['Neighbourhood']):\n",
    "    label= folium.Popup(label, parse_html=True)\n",
    "    folium.CircleMarker(\n",
    "    [lat,lng],\n",
    "    radius=5,\n",
    "    popup=label,\n",
    "    color='blue',\n",
    "    fill=True,\n",
    "    fill_color='#3816cc',\n",
    "    fill_opacity=0.7).add_to(map_khi)\n",
    "\n",
    "map_khi\n",
    "\n"
   ]
  },
  {
   "cell_type": "markdown",
   "metadata": {},
   "source": [
    "### Dialling in foursquare API"
   ]
  },
  {
   "cell_type": "code",
   "execution_count": 44,
   "metadata": {},
   "outputs": [],
   "source": [
    "CLIENT_ID='YYJIOEE53UDP5MCOJFS2NGYSYP5CVOADZYJOZFQY0A55JGQB'\n",
    "CLIENT_SECRET='KVRN03PBBM42K2DDYRV33WRJTK4PK1KL2ZBZNCXTCWTN1EXL'\n",
    "VERSION= '20180605'\n",
    "\n",
    "LIMIT=50\n",
    "radius=500"
   ]
  },
  {
   "cell_type": "code",
   "execution_count": 39,
   "metadata": {},
   "outputs": [],
   "source": [
    "#Creating function to get nearby venues\n",
    "def getNearbyVenues(names, latitudes, longitudes, radius=500):\n",
    "    \n",
    "    venues_list=[]\n",
    "    for name, lat, lng in zip(names, latitudes, longitudes):\n",
    "        print(name)\n",
    "            \n",
    "        # create the API request URL\n",
    "        url = 'https://api.foursquare.com/v2/venues/explore?&client_id={}&client_secret={}&v={}&ll={},{}&radius={}&limit={}'.format(\n",
    "            CLIENT_ID, \n",
    "            CLIENT_SECRET, \n",
    "            VERSION, \n",
    "            lat, \n",
    "            lng, \n",
    "            radius, \n",
    "            LIMIT)\n",
    "            \n",
    "        # make the GET request\n",
    "        results = requests.get(url).json()[\"response\"]['groups'][0]['items']\n",
    "        \n",
    "        # return only relevant information for each nearby venue\n",
    "        venues_list.append([(\n",
    "            name, \n",
    "            lat, \n",
    "            lng, \n",
    "            v['venue']['name'], \n",
    "            v['venue']['location']['lat'], \n",
    "            v['venue']['location']['lng'],  \n",
    "            v['venue']['categories'][0]['name']) for v in results])\n",
    "\n",
    "    nearby_venues = pd.DataFrame([item for venue_list in venues_list for item in venue_list])\n",
    "    nearby_venues.columns = ['Neighborhood', \n",
    "                  'Neighborhood Latitude', \n",
    "                  'Neighborhood Longitude', \n",
    "                  'Venue', \n",
    "                  'Venue Latitude', \n",
    "                  'Venue Longitude', \n",
    "                  'Venue Category']\n",
    "    \n",
    "    return(nearby_venues)"
   ]
  },
  {
   "cell_type": "code",
   "execution_count": 46,
   "metadata": {},
   "outputs": [
    {
     "name": "stdout",
     "output_type": "stream",
     "text": [
      "Baldia Town\n",
      "Bin Qasim Town\n",
      "Gadap Town\n",
      "Gulberg Town\n",
      "Gulshan Town\n",
      "Jamshed Town\n",
      "Kiamari Town\n",
      "Korangi Town\n",
      "Landhi Town\n",
      "Liaquatabad Town\n",
      "Lyari Town\n",
      "Malir Town\n",
      "New Karachi Town\n",
      "North Nazimabad Town\n",
      "Orangi Town\n",
      "Saddar Town\n",
      "Shah Faisal Town\n",
      "SITE Town\n"
     ]
    }
   ],
   "source": [
    "khi_venues=getNearbyVenues(names=df_khi_cleaned['Neighbourhood'],\n",
    "                              latitudes=df_khi_cleaned['Latitude'],\n",
    "                              longitudes=df_khi_cleaned['Longitude'])"
   ]
  },
  {
   "cell_type": "code",
   "execution_count": 47,
   "metadata": {
    "scrolled": true
   },
   "outputs": [
    {
     "data": {
      "text/html": [
       "<div>\n",
       "<style scoped>\n",
       "    .dataframe tbody tr th:only-of-type {\n",
       "        vertical-align: middle;\n",
       "    }\n",
       "\n",
       "    .dataframe tbody tr th {\n",
       "        vertical-align: top;\n",
       "    }\n",
       "\n",
       "    .dataframe thead th {\n",
       "        text-align: right;\n",
       "    }\n",
       "</style>\n",
       "<table border=\"1\" class=\"dataframe\">\n",
       "  <thead>\n",
       "    <tr style=\"text-align: right;\">\n",
       "      <th></th>\n",
       "      <th>Neighborhood</th>\n",
       "      <th>Neighborhood Latitude</th>\n",
       "      <th>Neighborhood Longitude</th>\n",
       "      <th>Venue</th>\n",
       "      <th>Venue Latitude</th>\n",
       "      <th>Venue Longitude</th>\n",
       "      <th>Venue Category</th>\n",
       "    </tr>\n",
       "  </thead>\n",
       "  <tbody>\n",
       "    <tr>\n",
       "      <td>0</td>\n",
       "      <td>Gulberg Town</td>\n",
       "      <td>24.9368</td>\n",
       "      <td>67.0760</td>\n",
       "      <td>Mehmood Sweets</td>\n",
       "      <td>24.936394</td>\n",
       "      <td>67.076200</td>\n",
       "      <td>Bakery</td>\n",
       "    </tr>\n",
       "    <tr>\n",
       "      <td>1</td>\n",
       "      <td>Gulberg Town</td>\n",
       "      <td>24.9368</td>\n",
       "      <td>67.0760</td>\n",
       "      <td>Khan Broast</td>\n",
       "      <td>24.934630</td>\n",
       "      <td>67.073230</td>\n",
       "      <td>Fast Food Restaurant</td>\n",
       "    </tr>\n",
       "    <tr>\n",
       "      <td>2</td>\n",
       "      <td>Gulberg Town</td>\n",
       "      <td>24.9368</td>\n",
       "      <td>67.0760</td>\n",
       "      <td>Khan Snacks</td>\n",
       "      <td>24.935323</td>\n",
       "      <td>67.073149</td>\n",
       "      <td>Burger Joint</td>\n",
       "    </tr>\n",
       "    <tr>\n",
       "      <td>3</td>\n",
       "      <td>Gulberg Town</td>\n",
       "      <td>24.9368</td>\n",
       "      <td>67.0760</td>\n",
       "      <td>Mehfooz Sheermal House</td>\n",
       "      <td>24.934723</td>\n",
       "      <td>67.073730</td>\n",
       "      <td>Bakery</td>\n",
       "    </tr>\n",
       "    <tr>\n",
       "      <td>4</td>\n",
       "      <td>Gulshan Town</td>\n",
       "      <td>24.9180</td>\n",
       "      <td>67.0971</td>\n",
       "      <td>Habitt</td>\n",
       "      <td>24.919327</td>\n",
       "      <td>67.095432</td>\n",
       "      <td>Furniture / Home Store</td>\n",
       "    </tr>\n",
       "    <tr>\n",
       "      <td>5</td>\n",
       "      <td>Gulshan Town</td>\n",
       "      <td>24.9180</td>\n",
       "      <td>67.0971</td>\n",
       "      <td>Chase Up</td>\n",
       "      <td>24.917045</td>\n",
       "      <td>67.096304</td>\n",
       "      <td>Department Store</td>\n",
       "    </tr>\n",
       "    <tr>\n",
       "      <td>6</td>\n",
       "      <td>Gulshan Town</td>\n",
       "      <td>24.9180</td>\n",
       "      <td>67.0971</td>\n",
       "      <td>Sindbad Amusement Park</td>\n",
       "      <td>24.915115</td>\n",
       "      <td>67.098230</td>\n",
       "      <td>Theme Park</td>\n",
       "    </tr>\n",
       "    <tr>\n",
       "      <td>7</td>\n",
       "      <td>Gulshan Town</td>\n",
       "      <td>24.9180</td>\n",
       "      <td>67.0971</td>\n",
       "      <td>Aziz Bhatti Park</td>\n",
       "      <td>24.914074</td>\n",
       "      <td>67.094879</td>\n",
       "      <td>Park</td>\n",
       "    </tr>\n",
       "    <tr>\n",
       "      <td>8</td>\n",
       "      <td>Jamshed Town</td>\n",
       "      <td>24.8702</td>\n",
       "      <td>67.0524</td>\n",
       "      <td>Noorani Kabab House</td>\n",
       "      <td>24.867698</td>\n",
       "      <td>67.052259</td>\n",
       "      <td>BBQ Joint</td>\n",
       "    </tr>\n",
       "    <tr>\n",
       "      <td>9</td>\n",
       "      <td>Jamshed Town</td>\n",
       "      <td>24.8702</td>\n",
       "      <td>67.0524</td>\n",
       "      <td>Ridan House of Mandi</td>\n",
       "      <td>24.871807</td>\n",
       "      <td>67.051740</td>\n",
       "      <td>Falafel Restaurant</td>\n",
       "    </tr>\n",
       "    <tr>\n",
       "      <td>10</td>\n",
       "      <td>Jamshed Town</td>\n",
       "      <td>24.8702</td>\n",
       "      <td>67.0524</td>\n",
       "      <td>Alfalah Super Store</td>\n",
       "      <td>24.870115</td>\n",
       "      <td>67.053286</td>\n",
       "      <td>Convenience Store</td>\n",
       "    </tr>\n",
       "    <tr>\n",
       "      <td>11</td>\n",
       "      <td>Jamshed Town</td>\n",
       "      <td>24.8702</td>\n",
       "      <td>67.0524</td>\n",
       "      <td>PECHS Gym</td>\n",
       "      <td>24.869475</td>\n",
       "      <td>67.053247</td>\n",
       "      <td>Gym</td>\n",
       "    </tr>\n",
       "    <tr>\n",
       "      <td>12</td>\n",
       "      <td>Korangi Town</td>\n",
       "      <td>24.8387</td>\n",
       "      <td>67.1209</td>\n",
       "      <td>S-Amden &amp; Company</td>\n",
       "      <td>24.838142</td>\n",
       "      <td>67.117449</td>\n",
       "      <td>Health &amp; Beauty Service</td>\n",
       "    </tr>\n",
       "    <tr>\n",
       "      <td>13</td>\n",
       "      <td>Landhi Town</td>\n",
       "      <td>24.8406</td>\n",
       "      <td>67.1948</td>\n",
       "      <td>Landhi Gymkhana Cricket Ground</td>\n",
       "      <td>24.839006</td>\n",
       "      <td>67.199315</td>\n",
       "      <td>Cricket Ground</td>\n",
       "    </tr>\n",
       "    <tr>\n",
       "      <td>14</td>\n",
       "      <td>Liaquatabad Town</td>\n",
       "      <td>24.9047</td>\n",
       "      <td>67.0472</td>\n",
       "      <td>Sarafa Bazaar Liaqatabad</td>\n",
       "      <td>24.903743</td>\n",
       "      <td>67.048085</td>\n",
       "      <td>Jewelry Store</td>\n",
       "    </tr>\n",
       "    <tr>\n",
       "      <td>15</td>\n",
       "      <td>Liaquatabad Town</td>\n",
       "      <td>24.9047</td>\n",
       "      <td>67.0472</td>\n",
       "      <td>cotton on</td>\n",
       "      <td>24.907486</td>\n",
       "      <td>67.048988</td>\n",
       "      <td>Clothing Store</td>\n",
       "    </tr>\n",
       "    <tr>\n",
       "      <td>16</td>\n",
       "      <td>Liaquatabad Town</td>\n",
       "      <td>24.9047</td>\n",
       "      <td>67.0472</td>\n",
       "      <td>Shakir Ali - Gol Gappay</td>\n",
       "      <td>24.901422</td>\n",
       "      <td>67.048620</td>\n",
       "      <td>Snack Place</td>\n",
       "    </tr>\n",
       "    <tr>\n",
       "      <td>17</td>\n",
       "      <td>New Karachi Town</td>\n",
       "      <td>24.9999</td>\n",
       "      <td>67.0648</td>\n",
       "      <td>Air Asia International Travel &amp; Tours</td>\n",
       "      <td>25.000294</td>\n",
       "      <td>67.065654</td>\n",
       "      <td>Transportation Service</td>\n",
       "    </tr>\n",
       "    <tr>\n",
       "      <td>18</td>\n",
       "      <td>New Karachi Town</td>\n",
       "      <td>24.9999</td>\n",
       "      <td>67.0648</td>\n",
       "      <td>Fahad Eye Hospital</td>\n",
       "      <td>25.000015</td>\n",
       "      <td>67.067726</td>\n",
       "      <td>Optical Shop</td>\n",
       "    </tr>\n",
       "    <tr>\n",
       "      <td>19</td>\n",
       "      <td>North Nazimabad Town</td>\n",
       "      <td>24.9372</td>\n",
       "      <td>67.0423</td>\n",
       "      <td>McDonald's</td>\n",
       "      <td>24.935646</td>\n",
       "      <td>67.040586</td>\n",
       "      <td>Fast Food Restaurant</td>\n",
       "    </tr>\n",
       "    <tr>\n",
       "      <td>20</td>\n",
       "      <td>North Nazimabad Town</td>\n",
       "      <td>24.9372</td>\n",
       "      <td>67.0423</td>\n",
       "      <td>Dolmen Mall</td>\n",
       "      <td>24.935600</td>\n",
       "      <td>67.040476</td>\n",
       "      <td>Shopping Mall</td>\n",
       "    </tr>\n",
       "    <tr>\n",
       "      <td>21</td>\n",
       "      <td>North Nazimabad Town</td>\n",
       "      <td>24.9372</td>\n",
       "      <td>67.0423</td>\n",
       "      <td>Nando's</td>\n",
       "      <td>24.939905</td>\n",
       "      <td>67.044596</td>\n",
       "      <td>African Restaurant</td>\n",
       "    </tr>\n",
       "    <tr>\n",
       "      <td>22</td>\n",
       "      <td>North Nazimabad Town</td>\n",
       "      <td>24.9372</td>\n",
       "      <td>67.0423</td>\n",
       "      <td>Dolmen Mall Food Court</td>\n",
       "      <td>24.935683</td>\n",
       "      <td>67.040321</td>\n",
       "      <td>Food Court</td>\n",
       "    </tr>\n",
       "    <tr>\n",
       "      <td>23</td>\n",
       "      <td>North Nazimabad Town</td>\n",
       "      <td>24.9372</td>\n",
       "      <td>67.0423</td>\n",
       "      <td>United King</td>\n",
       "      <td>24.939936</td>\n",
       "      <td>67.044575</td>\n",
       "      <td>Bakery</td>\n",
       "    </tr>\n",
       "    <tr>\n",
       "      <td>24</td>\n",
       "      <td>North Nazimabad Town</td>\n",
       "      <td>24.9372</td>\n",
       "      <td>67.0423</td>\n",
       "      <td>Get Smart Gym</td>\n",
       "      <td>24.935859</td>\n",
       "      <td>67.045182</td>\n",
       "      <td>Gym</td>\n",
       "    </tr>\n",
       "    <tr>\n",
       "      <td>25</td>\n",
       "      <td>North Nazimabad Town</td>\n",
       "      <td>24.9372</td>\n",
       "      <td>67.0423</td>\n",
       "      <td>Hyderi Market</td>\n",
       "      <td>24.936773</td>\n",
       "      <td>67.043574</td>\n",
       "      <td>Market</td>\n",
       "    </tr>\n",
       "    <tr>\n",
       "      <td>26</td>\n",
       "      <td>North Nazimabad Town</td>\n",
       "      <td>24.9372</td>\n",
       "      <td>67.0423</td>\n",
       "      <td>Liberty Books</td>\n",
       "      <td>24.936989</td>\n",
       "      <td>67.041200</td>\n",
       "      <td>Bookstore</td>\n",
       "    </tr>\n",
       "    <tr>\n",
       "      <td>27</td>\n",
       "      <td>Orangi Town</td>\n",
       "      <td>24.9517</td>\n",
       "      <td>67.0023</td>\n",
       "      <td>Areesha Dairy Farm</td>\n",
       "      <td>24.950030</td>\n",
       "      <td>67.005226</td>\n",
       "      <td>Food &amp; Drink Shop</td>\n",
       "    </tr>\n",
       "    <tr>\n",
       "      <td>28</td>\n",
       "      <td>Saddar Town</td>\n",
       "      <td>24.8532</td>\n",
       "      <td>67.0167</td>\n",
       "      <td>Cafe Laziz</td>\n",
       "      <td>24.856305</td>\n",
       "      <td>67.015669</td>\n",
       "      <td>Café</td>\n",
       "    </tr>\n",
       "    <tr>\n",
       "      <td>29</td>\n",
       "      <td>Saddar Town</td>\n",
       "      <td>24.8532</td>\n",
       "      <td>67.0167</td>\n",
       "      <td>Karachi Arts Council</td>\n",
       "      <td>24.852663</td>\n",
       "      <td>67.020498</td>\n",
       "      <td>Theater</td>\n",
       "    </tr>\n",
       "    <tr>\n",
       "      <td>30</td>\n",
       "      <td>Saddar Town</td>\n",
       "      <td>24.8532</td>\n",
       "      <td>67.0167</td>\n",
       "      <td>Food Center</td>\n",
       "      <td>24.851771</td>\n",
       "      <td>67.016719</td>\n",
       "      <td>Diner</td>\n",
       "    </tr>\n",
       "    <tr>\n",
       "      <td>31</td>\n",
       "      <td>Saddar Town</td>\n",
       "      <td>24.8532</td>\n",
       "      <td>67.0167</td>\n",
       "      <td>Punjab Lassi House</td>\n",
       "      <td>24.856352</td>\n",
       "      <td>67.015617</td>\n",
       "      <td>Juice Bar</td>\n",
       "    </tr>\n",
       "    <tr>\n",
       "      <td>32</td>\n",
       "      <td>Saddar Town</td>\n",
       "      <td>24.8532</td>\n",
       "      <td>67.0167</td>\n",
       "      <td>Waheed Kebab House</td>\n",
       "      <td>24.856740</td>\n",
       "      <td>67.016592</td>\n",
       "      <td>BBQ Joint</td>\n",
       "    </tr>\n",
       "    <tr>\n",
       "      <td>33</td>\n",
       "      <td>Saddar Town</td>\n",
       "      <td>24.8532</td>\n",
       "      <td>67.0167</td>\n",
       "      <td>Fresco Sweetmeat Mart</td>\n",
       "      <td>24.851787</td>\n",
       "      <td>67.016699</td>\n",
       "      <td>Bakery</td>\n",
       "    </tr>\n",
       "    <tr>\n",
       "      <td>34</td>\n",
       "      <td>SITE Town</td>\n",
       "      <td>24.9053</td>\n",
       "      <td>66.9928</td>\n",
       "      <td>Binoria Restaurant</td>\n",
       "      <td>24.906333</td>\n",
       "      <td>66.995849</td>\n",
       "      <td>Diner</td>\n",
       "    </tr>\n",
       "    <tr>\n",
       "      <td>35</td>\n",
       "      <td>SITE Town</td>\n",
       "      <td>24.9053</td>\n",
       "      <td>66.9928</td>\n",
       "      <td>Filamingo Dondurmacısı</td>\n",
       "      <td>24.905306</td>\n",
       "      <td>66.992844</td>\n",
       "      <td>Café</td>\n",
       "    </tr>\n",
       "  </tbody>\n",
       "</table>\n",
       "</div>"
      ],
      "text/plain": [
       "            Neighborhood  Neighborhood Latitude  Neighborhood Longitude  \\\n",
       "0           Gulberg Town                24.9368                 67.0760   \n",
       "1           Gulberg Town                24.9368                 67.0760   \n",
       "2           Gulberg Town                24.9368                 67.0760   \n",
       "3           Gulberg Town                24.9368                 67.0760   \n",
       "4           Gulshan Town                24.9180                 67.0971   \n",
       "5           Gulshan Town                24.9180                 67.0971   \n",
       "6           Gulshan Town                24.9180                 67.0971   \n",
       "7           Gulshan Town                24.9180                 67.0971   \n",
       "8           Jamshed Town                24.8702                 67.0524   \n",
       "9           Jamshed Town                24.8702                 67.0524   \n",
       "10          Jamshed Town                24.8702                 67.0524   \n",
       "11          Jamshed Town                24.8702                 67.0524   \n",
       "12          Korangi Town                24.8387                 67.1209   \n",
       "13           Landhi Town                24.8406                 67.1948   \n",
       "14      Liaquatabad Town                24.9047                 67.0472   \n",
       "15      Liaquatabad Town                24.9047                 67.0472   \n",
       "16      Liaquatabad Town                24.9047                 67.0472   \n",
       "17      New Karachi Town                24.9999                 67.0648   \n",
       "18      New Karachi Town                24.9999                 67.0648   \n",
       "19  North Nazimabad Town                24.9372                 67.0423   \n",
       "20  North Nazimabad Town                24.9372                 67.0423   \n",
       "21  North Nazimabad Town                24.9372                 67.0423   \n",
       "22  North Nazimabad Town                24.9372                 67.0423   \n",
       "23  North Nazimabad Town                24.9372                 67.0423   \n",
       "24  North Nazimabad Town                24.9372                 67.0423   \n",
       "25  North Nazimabad Town                24.9372                 67.0423   \n",
       "26  North Nazimabad Town                24.9372                 67.0423   \n",
       "27           Orangi Town                24.9517                 67.0023   \n",
       "28           Saddar Town                24.8532                 67.0167   \n",
       "29           Saddar Town                24.8532                 67.0167   \n",
       "30           Saddar Town                24.8532                 67.0167   \n",
       "31           Saddar Town                24.8532                 67.0167   \n",
       "32           Saddar Town                24.8532                 67.0167   \n",
       "33           Saddar Town                24.8532                 67.0167   \n",
       "34             SITE Town                24.9053                 66.9928   \n",
       "35             SITE Town                24.9053                 66.9928   \n",
       "\n",
       "                                    Venue  Venue Latitude  Venue Longitude  \\\n",
       "0                          Mehmood Sweets       24.936394        67.076200   \n",
       "1                             Khan Broast       24.934630        67.073230   \n",
       "2                             Khan Snacks       24.935323        67.073149   \n",
       "3                  Mehfooz Sheermal House       24.934723        67.073730   \n",
       "4                                  Habitt       24.919327        67.095432   \n",
       "5                                Chase Up       24.917045        67.096304   \n",
       "6                  Sindbad Amusement Park       24.915115        67.098230   \n",
       "7                        Aziz Bhatti Park       24.914074        67.094879   \n",
       "8                     Noorani Kabab House       24.867698        67.052259   \n",
       "9                    Ridan House of Mandi       24.871807        67.051740   \n",
       "10                    Alfalah Super Store       24.870115        67.053286   \n",
       "11                              PECHS Gym       24.869475        67.053247   \n",
       "12                      S-Amden & Company       24.838142        67.117449   \n",
       "13         Landhi Gymkhana Cricket Ground       24.839006        67.199315   \n",
       "14               Sarafa Bazaar Liaqatabad       24.903743        67.048085   \n",
       "15                              cotton on       24.907486        67.048988   \n",
       "16                Shakir Ali - Gol Gappay       24.901422        67.048620   \n",
       "17  Air Asia International Travel & Tours       25.000294        67.065654   \n",
       "18                     Fahad Eye Hospital       25.000015        67.067726   \n",
       "19                             McDonald's       24.935646        67.040586   \n",
       "20                            Dolmen Mall       24.935600        67.040476   \n",
       "21                                Nando's       24.939905        67.044596   \n",
       "22                 Dolmen Mall Food Court       24.935683        67.040321   \n",
       "23                            United King       24.939936        67.044575   \n",
       "24                          Get Smart Gym       24.935859        67.045182   \n",
       "25                          Hyderi Market       24.936773        67.043574   \n",
       "26                          Liberty Books       24.936989        67.041200   \n",
       "27                     Areesha Dairy Farm       24.950030        67.005226   \n",
       "28                             Cafe Laziz       24.856305        67.015669   \n",
       "29                   Karachi Arts Council       24.852663        67.020498   \n",
       "30                            Food Center       24.851771        67.016719   \n",
       "31                     Punjab Lassi House       24.856352        67.015617   \n",
       "32                     Waheed Kebab House       24.856740        67.016592   \n",
       "33                  Fresco Sweetmeat Mart       24.851787        67.016699   \n",
       "34                     Binoria Restaurant       24.906333        66.995849   \n",
       "35                 Filamingo Dondurmacısı       24.905306        66.992844   \n",
       "\n",
       "             Venue Category  \n",
       "0                    Bakery  \n",
       "1      Fast Food Restaurant  \n",
       "2              Burger Joint  \n",
       "3                    Bakery  \n",
       "4    Furniture / Home Store  \n",
       "5          Department Store  \n",
       "6                Theme Park  \n",
       "7                      Park  \n",
       "8                 BBQ Joint  \n",
       "9        Falafel Restaurant  \n",
       "10        Convenience Store  \n",
       "11                      Gym  \n",
       "12  Health & Beauty Service  \n",
       "13           Cricket Ground  \n",
       "14            Jewelry Store  \n",
       "15           Clothing Store  \n",
       "16              Snack Place  \n",
       "17   Transportation Service  \n",
       "18             Optical Shop  \n",
       "19     Fast Food Restaurant  \n",
       "20            Shopping Mall  \n",
       "21       African Restaurant  \n",
       "22               Food Court  \n",
       "23                   Bakery  \n",
       "24                      Gym  \n",
       "25                   Market  \n",
       "26                Bookstore  \n",
       "27        Food & Drink Shop  \n",
       "28                     Café  \n",
       "29                  Theater  \n",
       "30                    Diner  \n",
       "31                Juice Bar  \n",
       "32                BBQ Joint  \n",
       "33                   Bakery  \n",
       "34                    Diner  \n",
       "35                     Café  "
      ]
     },
     "execution_count": 47,
     "metadata": {},
     "output_type": "execute_result"
    }
   ],
   "source": [
    "khi_venues"
   ]
  },
  {
   "cell_type": "markdown",
   "metadata": {},
   "source": [
    "# END OF WEEK 1"
   ]
  },
  {
   "cell_type": "markdown",
   "metadata": {},
   "source": [
    "# Now Moving to Methodology and Analysis"
   ]
  },
  {
   "cell_type": "code",
   "execution_count": null,
   "metadata": {},
   "outputs": [],
   "source": []
  },
  {
   "cell_type": "code",
   "execution_count": null,
   "metadata": {},
   "outputs": [],
   "source": []
  }
 ],
 "metadata": {
  "kernelspec": {
   "display_name": "Python 3",
   "language": "python",
   "name": "python3"
  },
  "language_info": {
   "codemirror_mode": {
    "name": "ipython",
    "version": 3
   },
   "file_extension": ".py",
   "mimetype": "text/x-python",
   "name": "python",
   "nbconvert_exporter": "python",
   "pygments_lexer": "ipython3",
   "version": "3.7.4"
  }
 },
 "nbformat": 4,
 "nbformat_minor": 2
}
