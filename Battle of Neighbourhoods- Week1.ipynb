{
 "cells": [
  {
   "cell_type": "markdown",
   "metadata": {},
   "source": [
    "# Battle of Neighbourhoods"
   ]
  },
  {
   "cell_type": "markdown",
   "metadata": {},
   "source": [
    "# Introduction/ Business Problem"
   ]
  },
  {
   "cell_type": "markdown",
   "metadata": {},
   "source": [
    "## Background: Booming consumerism of Paksitan"
   ]
  },
  {
   "cell_type": "markdown",
   "metadata": {},
   "source": [
    "Pakistan is categorized as an emerging country with average age population of 24. With incresing income per capita and youth, consumerism is growing double digits and likely to continue so in coming years. Culturally, South Asians love food and like hanging out over lunch/ dinners and hence decent chunk of disposable income is spent on eating out. I intend to open a Thai cuisines restaurant in the capital city of Pakistan, Islamabad. With diversified population of Diplomats, goernment officials, businessmen and students, Thai cusinies are likely to do well. "
   ]
  },
  {
   "cell_type": "markdown",
   "metadata": {},
   "source": [
    "## Business Problem: Where to open restaurant in Islamabad"
   ]
  },
  {
   "cell_type": "markdown",
   "metadata": {},
   "source": [
    "To succeed in food business its important to choose a location where there is more population and less restaurants. We intend to choose a location best suited for a new restaurant."
   ]
  },
  {
   "cell_type": "markdown",
   "metadata": {},
   "source": [
    "## Interested Audience"
   ]
  },
  {
   "cell_type": "markdown",
   "metadata": {},
   "source": [
    "Anyone looking to open a new restaurant is a target audience. It can also help people to choose which retaurants are located where and what option do they have if they want to dine out."
   ]
  },
  {
   "cell_type": "markdown",
   "metadata": {},
   "source": [
    "# Data section"
   ]
  },
  {
   "cell_type": "markdown",
   "metadata": {},
   "source": [
    "## Data Sources"
   ]
  },
  {
   "cell_type": "markdown",
   "metadata": {},
   "source": [
    "1) Neighbourhoods/ Councils in Islamabad to find number and type of restaurants concertaion: https://en.wikipedia.org/wiki/Islamabad_Capital_Territory\n",
    "2) Four square API data"
   ]
  },
  {
   "cell_type": "markdown",
   "metadata": {},
   "source": [
    "## How data will be used"
   ]
  },
  {
   "cell_type": "markdown",
   "metadata": {},
   "source": [
    "Using Foursquare API, each council will be clustered with concentration of restaurants and cuisines. The data for neighbourhoods used will be scraped through a wikipedia site (https://en.wikipedia.org/wiki/Islamabad_Capital_Territory). The processing of data will help in identifying 1) Which Council has less concentration of restaurants, 2) Have most offices and Universities and 3) Types of Cuisines. \n",
    "\n",
    "The data will be anlysed by clustering the neighbourhood councils to find less concentration of restaurants while more people flow. Using Foursquare API data, the areas will be clustered according to type of restaurants, nearby venues and trending places. We will use K-Means clustering and DBSCAN algorithms in Machine Learning to analyze the neighbourhoods. I will shortlist the top 3 locations to suit the restuarant opening. The best location will be the one where there are no or less number of Thai resturants while high concentration of offices and universities."
   ]
  },
  {
   "cell_type": "markdown",
   "metadata": {},
   "source": [
    "### First Importing required Liabraries:"
   ]
  },
  {
   "cell_type": "code",
   "execution_count": 1,
   "metadata": {},
   "outputs": [
    {
     "name": "stdout",
     "output_type": "stream",
     "text": [
      "Requirement already satisfied: geocoder in /Users/Shamoon/opt/anaconda3/lib/python3.7/site-packages (1.38.1)\n",
      "Requirement already satisfied: click in /Users/Shamoon/opt/anaconda3/lib/python3.7/site-packages (from geocoder) (7.0)\n",
      "Requirement already satisfied: ratelim in /Users/Shamoon/opt/anaconda3/lib/python3.7/site-packages (from geocoder) (0.1.6)\n",
      "Requirement already satisfied: six in /Users/Shamoon/opt/anaconda3/lib/python3.7/site-packages (from geocoder) (1.12.0)\n",
      "Requirement already satisfied: future in /Users/Shamoon/opt/anaconda3/lib/python3.7/site-packages (from geocoder) (0.17.1)\n",
      "Requirement already satisfied: requests in /Users/Shamoon/opt/anaconda3/lib/python3.7/site-packages (from geocoder) (2.22.0)\n",
      "Requirement already satisfied: decorator in /Users/Shamoon/opt/anaconda3/lib/python3.7/site-packages (from ratelim->geocoder) (4.4.0)\n",
      "Requirement already satisfied: certifi>=2017.4.17 in /Users/Shamoon/opt/anaconda3/lib/python3.7/site-packages (from requests->geocoder) (2019.9.11)\n",
      "Requirement already satisfied: idna<2.9,>=2.5 in /Users/Shamoon/opt/anaconda3/lib/python3.7/site-packages (from requests->geocoder) (2.8)\n",
      "Requirement already satisfied: urllib3!=1.25.0,!=1.25.1,<1.26,>=1.21.1 in /Users/Shamoon/opt/anaconda3/lib/python3.7/site-packages (from requests->geocoder) (1.24.2)\n",
      "Requirement already satisfied: chardet<3.1.0,>=3.0.2 in /Users/Shamoon/opt/anaconda3/lib/python3.7/site-packages (from requests->geocoder) (3.0.4)\n",
      "Libraries imported.\n"
     ]
    }
   ],
   "source": [
    "import numpy as np # library to handle data in a vectorized manner\n",
    "\n",
    "import pandas as pd # library for data analsysis\n",
    "pd.set_option(\"display.max_columns\", None)\n",
    "pd.set_option(\"display.max_rows\", None)\n",
    "\n",
    "import json # library to handle JSON files\n",
    "\n",
    "from geopy.geocoders import Nominatim # convert an address into latitude and longitude values\n",
    "!pip install geocoder\n",
    "import geocoder\n",
    "\n",
    "import requests # library to handle requests\n",
    "from bs4 import BeautifulSoup # library to parse HTML and XML documents\n",
    "\n",
    "from pandas.io.json import json_normalize # tranform JSON file into a pandas dataframe\n",
    "\n",
    "# Matplotlib and associated plotting modules\n",
    "import matplotlib.cm as cm\n",
    "import matplotlib.colors as colors\n",
    "\n",
    "# import k-means from clustering stage\n",
    "from sklearn.cluster import KMeans\n",
    "\n",
    "import folium # map rendering library\n",
    "\n",
    "print(\"Libraries imported.\")"
   ]
  },
  {
   "cell_type": "markdown",
   "metadata": {},
   "source": [
    "### Scraping data"
   ]
  },
  {
   "cell_type": "code",
   "execution_count": 2,
   "metadata": {},
   "outputs": [
    {
     "data": {
      "text/plain": [
       "['Baldia Town',\n",
       " 'Bin Qasim Town',\n",
       " 'Gadap Town',\n",
       " 'Gulberg Town',\n",
       " 'Gulshan Town',\n",
       " 'Jamshed Town',\n",
       " 'Kiamari Town',\n",
       " 'Korangi Town',\n",
       " 'Landhi Town',\n",
       " 'Liaquatabad Town',\n",
       " 'Lyari Town',\n",
       " 'Malir Town',\n",
       " 'New Karachi Town',\n",
       " 'North Nazimabad Town',\n",
       " 'Orangi Town',\n",
       " 'Saddar Town',\n",
       " 'Shah Faisal Town',\n",
       " 'SITE Town']"
      ]
     },
     "execution_count": 2,
     "metadata": {},
     "output_type": "execute_result"
    }
   ],
   "source": [
    "url= requests.get('https://en.wikipedia.org/wiki/Towns_in_Karachi#Karachi_Towns').text\n",
    "soup= BeautifulSoup(url, 'html.parser')\n",
    "table=soup.find('table', class_='multicol')\n",
    "data= table.find_all('a')\n",
    "Councils= []\n",
    "\n",
    "for i in range(0, len(data)):\n",
    "    Councils.append(data[i].text.strip())\n",
    "\n",
    "    \n",
    "Councils"
   ]
  },
  {
   "cell_type": "code",
   "execution_count": 3,
   "metadata": {
    "scrolled": true
   },
   "outputs": [
    {
     "data": {
      "text/html": [
       "<div>\n",
       "<style scoped>\n",
       "    .dataframe tbody tr th:only-of-type {\n",
       "        vertical-align: middle;\n",
       "    }\n",
       "\n",
       "    .dataframe tbody tr th {\n",
       "        vertical-align: top;\n",
       "    }\n",
       "\n",
       "    .dataframe thead th {\n",
       "        text-align: right;\n",
       "    }\n",
       "</style>\n",
       "<table border=\"1\" class=\"dataframe\">\n",
       "  <thead>\n",
       "    <tr style=\"text-align: right;\">\n",
       "      <th></th>\n",
       "      <th>Neighbourhood</th>\n",
       "    </tr>\n",
       "  </thead>\n",
       "  <tbody>\n",
       "    <tr>\n",
       "      <td>0</td>\n",
       "      <td>Baldia Town</td>\n",
       "    </tr>\n",
       "    <tr>\n",
       "      <td>1</td>\n",
       "      <td>Bin Qasim Town</td>\n",
       "    </tr>\n",
       "    <tr>\n",
       "      <td>2</td>\n",
       "      <td>Gadap Town</td>\n",
       "    </tr>\n",
       "    <tr>\n",
       "      <td>3</td>\n",
       "      <td>Gulberg Town</td>\n",
       "    </tr>\n",
       "    <tr>\n",
       "      <td>4</td>\n",
       "      <td>Gulshan Town</td>\n",
       "    </tr>\n",
       "  </tbody>\n",
       "</table>\n",
       "</div>"
      ],
      "text/plain": [
       "    Neighbourhood\n",
       "0     Baldia Town\n",
       "1  Bin Qasim Town\n",
       "2      Gadap Town\n",
       "3    Gulberg Town\n",
       "4    Gulshan Town"
      ]
     },
     "execution_count": 3,
     "metadata": {},
     "output_type": "execute_result"
    }
   ],
   "source": [
    "df_Khi= pd.DataFrame({\"Neighbourhood\":Councils})\n",
    "df_Khi.head()"
   ]
  },
  {
   "cell_type": "code",
   "execution_count": 202,
   "metadata": {},
   "outputs": [
    {
     "data": {
      "text/plain": [
       "(18, 1)"
      ]
     },
     "execution_count": 202,
     "metadata": {},
     "output_type": "execute_result"
    }
   ],
   "source": [
    "df_Khi.shape"
   ]
  },
  {
   "cell_type": "markdown",
   "metadata": {},
   "source": [
    "### Getting coordinates"
   ]
  },
  {
   "cell_type": "code",
   "execution_count": 5,
   "metadata": {},
   "outputs": [],
   "source": [
    "# define a function to get coordinates\n",
    "def get_latlng(neighborhood):\n",
    "    # initialize your variable to None\n",
    "    lat_lng_coords = None\n",
    "    # loop until you get the coordinates\n",
    "    while(lat_lng_coords is None):\n",
    "        g = geocoder.arcgis('{}, Karachi, Pakistan'.format(neighborhood))\n",
    "        lat_lng_coords = g.latlng\n",
    "    return lat_lng_coords"
   ]
  },
  {
   "cell_type": "code",
   "execution_count": null,
   "metadata": {},
   "outputs": [],
   "source": []
  },
  {
   "cell_type": "code",
   "execution_count": 6,
   "metadata": {
    "scrolled": true
   },
   "outputs": [
    {
     "data": {
      "text/plain": [
       "[[24.928600000000074, 66.99470000000008],\n",
       " [24.90560000000005, 67.08220000000006],\n",
       " [24.90560000000005, 67.08220000000006],\n",
       " [24.90560000000005, 67.08220000000006],\n",
       " [24.90560000000005, 67.08220000000006],\n",
       " [24.90560000000005, 67.08220000000006],\n",
       " [24.90560000000005, 67.08220000000006],\n",
       " [24.90560000000005, 67.08220000000006],\n",
       " [24.90560000000005, 67.08220000000006],\n",
       " [24.900600000000054, 67.04750000000007],\n",
       " [24.90560000000005, 67.08220000000006],\n",
       " [24.90560000000005, 67.08220000000006],\n",
       " [24.90560000000005, 67.08220000000006],\n",
       " [24.927440000000047, 67.03479000000004],\n",
       " [24.958150000000046, 66.99139000000008],\n",
       " [24.90560000000005, 67.08220000000006],\n",
       " [24.893500000000074, 67.17510000000004],\n",
       " [24.90560000000005, 67.08220000000006]]"
      ]
     },
     "execution_count": 6,
     "metadata": {},
     "output_type": "execute_result"
    }
   ],
   "source": [
    "coordinates= [get_latlng(neighborhood) for neighborhood in df_Khi[\"Neighbourhood\"].tolist()]\n",
    "coordinates"
   ]
  },
  {
   "cell_type": "markdown",
   "metadata": {},
   "source": [
    "### Adding coordinates "
   ]
  },
  {
   "cell_type": "code",
   "execution_count": 10,
   "metadata": {
    "scrolled": true
   },
   "outputs": [
    {
     "data": {
      "text/html": [
       "<div>\n",
       "<style scoped>\n",
       "    .dataframe tbody tr th:only-of-type {\n",
       "        vertical-align: middle;\n",
       "    }\n",
       "\n",
       "    .dataframe tbody tr th {\n",
       "        vertical-align: top;\n",
       "    }\n",
       "\n",
       "    .dataframe thead th {\n",
       "        text-align: right;\n",
       "    }\n",
       "</style>\n",
       "<table border=\"1\" class=\"dataframe\">\n",
       "  <thead>\n",
       "    <tr style=\"text-align: right;\">\n",
       "      <th></th>\n",
       "      <th>Neighbourhood</th>\n",
       "      <th>Latitude</th>\n",
       "      <th>Longitude</th>\n",
       "    </tr>\n",
       "  </thead>\n",
       "  <tbody>\n",
       "    <tr>\n",
       "      <td>0</td>\n",
       "      <td>Baldia Town</td>\n",
       "      <td>24.9286</td>\n",
       "      <td>66.9947</td>\n",
       "    </tr>\n",
       "    <tr>\n",
       "      <td>1</td>\n",
       "      <td>Bin Qasim Town</td>\n",
       "      <td>24.9056</td>\n",
       "      <td>67.0822</td>\n",
       "    </tr>\n",
       "    <tr>\n",
       "      <td>2</td>\n",
       "      <td>Gadap Town</td>\n",
       "      <td>24.9056</td>\n",
       "      <td>67.0822</td>\n",
       "    </tr>\n",
       "    <tr>\n",
       "      <td>3</td>\n",
       "      <td>Gulberg Town</td>\n",
       "      <td>24.9056</td>\n",
       "      <td>67.0822</td>\n",
       "    </tr>\n",
       "    <tr>\n",
       "      <td>4</td>\n",
       "      <td>Gulshan Town</td>\n",
       "      <td>24.9056</td>\n",
       "      <td>67.0822</td>\n",
       "    </tr>\n",
       "  </tbody>\n",
       "</table>\n",
       "</div>"
      ],
      "text/plain": [
       "    Neighbourhood  Latitude  Longitude\n",
       "0     Baldia Town   24.9286    66.9947\n",
       "1  Bin Qasim Town   24.9056    67.0822\n",
       "2      Gadap Town   24.9056    67.0822\n",
       "3    Gulberg Town   24.9056    67.0822\n",
       "4    Gulshan Town   24.9056    67.0822"
      ]
     },
     "execution_count": 10,
     "metadata": {},
     "output_type": "execute_result"
    }
   ],
   "source": [
    "df_coords=pd.DataFrame(coordinates, columns=['Latitude', 'Longitude'])\n",
    "\n",
    "df_Khi['Latitude']=df_coords['Latitude']\n",
    "df_Khi['Longitude']=df_coords['Longitude']\n",
    "df_Khi.head()"
   ]
  },
  {
   "cell_type": "code",
   "execution_count": 24,
   "metadata": {},
   "outputs": [
    {
     "data": {
      "text/plain": [
       "Neighbourhood    18\n",
       "Latitude          6\n",
       "Longitude         6\n",
       "dtype: int64"
      ]
     },
     "execution_count": 24,
     "metadata": {},
     "output_type": "execute_result"
    }
   ],
   "source": [
    "df_Khi.nunique()"
   ]
  },
  {
   "cell_type": "markdown",
   "metadata": {},
   "source": [
    "### Converting into csv and double checking the coordinates as Google API sometimes return wrong coordinates. In this case it is returning 6 coordinates for 18 neighbiurhoods"
   ]
  },
  {
   "cell_type": "code",
   "execution_count": 25,
   "metadata": {},
   "outputs": [],
   "source": [
    "df_Khi.to_csv(\"df_Khi.csv\", index= False)"
   ]
  },
  {
   "cell_type": "markdown",
   "metadata": {},
   "source": [
    "### Opening the cleaned, ensuring correct coordinates"
   ]
  },
  {
   "cell_type": "code",
   "execution_count": 12,
   "metadata": {
    "scrolled": true
   },
   "outputs": [
    {
     "data": {
      "text/html": [
       "<div>\n",
       "<style scoped>\n",
       "    .dataframe tbody tr th:only-of-type {\n",
       "        vertical-align: middle;\n",
       "    }\n",
       "\n",
       "    .dataframe tbody tr th {\n",
       "        vertical-align: top;\n",
       "    }\n",
       "\n",
       "    .dataframe thead th {\n",
       "        text-align: right;\n",
       "    }\n",
       "</style>\n",
       "<table border=\"1\" class=\"dataframe\">\n",
       "  <thead>\n",
       "    <tr style=\"text-align: right;\">\n",
       "      <th></th>\n",
       "      <th>Neighbourhood</th>\n",
       "      <th>Latitude</th>\n",
       "      <th>Longitude</th>\n",
       "    </tr>\n",
       "  </thead>\n",
       "  <tbody>\n",
       "    <tr>\n",
       "      <td>0</td>\n",
       "      <td>Baldia Town</td>\n",
       "      <td>24.9525</td>\n",
       "      <td>66.9550</td>\n",
       "    </tr>\n",
       "    <tr>\n",
       "      <td>1</td>\n",
       "      <td>Bin Qasim Town</td>\n",
       "      <td>24.8596</td>\n",
       "      <td>67.4005</td>\n",
       "    </tr>\n",
       "    <tr>\n",
       "      <td>2</td>\n",
       "      <td>Gadap Town</td>\n",
       "      <td>25.0023</td>\n",
       "      <td>67.1321</td>\n",
       "    </tr>\n",
       "    <tr>\n",
       "      <td>3</td>\n",
       "      <td>Gulberg Town</td>\n",
       "      <td>24.9368</td>\n",
       "      <td>67.0760</td>\n",
       "    </tr>\n",
       "    <tr>\n",
       "      <td>4</td>\n",
       "      <td>Gulshan Town</td>\n",
       "      <td>24.9180</td>\n",
       "      <td>67.0971</td>\n",
       "    </tr>\n",
       "  </tbody>\n",
       "</table>\n",
       "</div>"
      ],
      "text/plain": [
       "    Neighbourhood  Latitude  Longitude\n",
       "0     Baldia Town   24.9525    66.9550\n",
       "1  Bin Qasim Town   24.8596    67.4005\n",
       "2      Gadap Town   25.0023    67.1321\n",
       "3    Gulberg Town   24.9368    67.0760\n",
       "4    Gulshan Town   24.9180    67.0971"
      ]
     },
     "execution_count": 12,
     "metadata": {},
     "output_type": "execute_result"
    }
   ],
   "source": [
    "df_khi_cleaned= pd.read_csv('df_Khi.csv')\n",
    "df_khi_cleaned.head()"
   ]
  },
  {
   "cell_type": "markdown",
   "metadata": {},
   "source": [
    "#### Now we have 18 coordinates for 18 neighbourhoods"
   ]
  },
  {
   "cell_type": "code",
   "execution_count": 13,
   "metadata": {},
   "outputs": [
    {
     "data": {
      "text/plain": [
       "Neighbourhood    18\n",
       "Latitude         18\n",
       "Longitude        18\n",
       "dtype: int64"
      ]
     },
     "execution_count": 13,
     "metadata": {},
     "output_type": "execute_result"
    }
   ],
   "source": [
    "df_khi_cleaned.nunique()"
   ]
  },
  {
   "cell_type": "markdown",
   "metadata": {},
   "source": [
    "### Create a map of Karachi and neighbourhoods super imposed"
   ]
  },
  {
   "cell_type": "code",
   "execution_count": 22,
   "metadata": {},
   "outputs": [],
   "source": [
    "latitude= 24.8607\n",
    "longitude= 67.0011"
   ]
  },
  {
   "cell_type": "code",
   "execution_count": 23,
   "metadata": {
    "scrolled": false
   },
   "outputs": [
    {
     "data": {
      "text/html": [
       "<div style=\"width:100%;\"><div style=\"position:relative;width:100%;height:0;padding-bottom:60%;\"><iframe src=\"about:blank\" style=\"position:absolute;width:100%;height:100%;left:0;top:0;border:none !important;\" data-html=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 onload=\"this.contentDocument.open();this.contentDocument.write(atob(this.getAttribute('data-html')));this.contentDocument.close();\" allowfullscreen webkitallowfullscreen mozallowfullscreen></iframe></div></div>"
      ],
      "text/plain": [
       "<folium.folium.Map at 0x1a190b4210>"
      ]
     },
     "execution_count": 23,
     "metadata": {},
     "output_type": "execute_result"
    }
   ],
   "source": [
    "map_khi=folium.Map(location=[latitude, longitude], zoom_start=10)\n",
    "\n",
    "#superimposing neighbourhoods on the map\n",
    "\n",
    "for lat,lng,label in zip(df_khi_cleaned['Latitude'], df_khi_cleaned['Longitude'],df_khi_cleaned['Neighbourhood']):\n",
    "    label= folium.Popup(label, parse_html=True)\n",
    "    folium.CircleMarker(\n",
    "    [lat,lng],\n",
    "    radius=5,\n",
    "    popup=label,\n",
    "    color='blue',\n",
    "    fill=True,\n",
    "    fill_color='#3816cc',\n",
    "    fill_opacity=0.7).add_to(map_khi)\n",
    "\n",
    "map_khi\n",
    "\n"
   ]
  },
  {
   "cell_type": "markdown",
   "metadata": {},
   "source": [
    "### Dialling in foursquare API"
   ]
  },
  {
   "cell_type": "code",
   "execution_count": 15,
   "metadata": {},
   "outputs": [],
   "source": [
    "CLIENT_ID='MY_ID'\n",
    "CLIENT_SECRET='MY_ SECRET'\n",
    "VERSION= '20180605'\n",
    "\n",
    "LIMIT=500\n",
    "radius=00"
   ]
  },
  {
   "cell_type": "code",
   "execution_count": 31,
   "metadata": {},
   "outputs": [],
   "source": [
    "#Creating function to get nearby venues\n",
    "def getNearbyVenues(names, latitudes, longitudes, radius=2000):\n",
    "    \n",
    "    venues_list=[]\n",
    "    for name, lat, lng in zip(names, latitudes, longitudes):\n",
    "        print(name)\n",
    "            \n",
    "        # create the API request URL\n",
    "        url = 'https://api.foursquare.com/v2/venues/explore?&client_id={}&client_secret={}&v={}&ll={},{}&radius={}&limit={}'.format(\n",
    "            CLIENT_ID, \n",
    "            CLIENT_SECRET, \n",
    "            VERSION, \n",
    "            lat, \n",
    "            lng, \n",
    "            radius, \n",
    "            LIMIT)\n",
    "            \n",
    "        # make the GET request\n",
    "        results = requests.get(url).json()[\"response\"]['groups'][0]['items']\n",
    "        \n",
    "        # return only relevant information for each nearby venue\n",
    "        venues_list.append([(\n",
    "            name, \n",
    "            lat, \n",
    "            lng, \n",
    "            v['venue']['name'], \n",
    "            v['venue']['location']['lat'], \n",
    "            v['venue']['location']['lng'],  \n",
    "            v['venue']['categories'][0]['name']) for v in results])\n",
    "\n",
    "    nearby_venues = pd.DataFrame([item for venue_list in venues_list for item in venue_list])\n",
    "    nearby_venues.columns = ['Neighborhood', \n",
    "                  'Neighborhood Latitude', \n",
    "                  'Neighborhood Longitude', \n",
    "                  'Venue', \n",
    "                  'Venue Latitude', \n",
    "                  'Venue Longitude', \n",
    "                  'Venue Category']\n",
    "    \n",
    "    return(nearby_venues)"
   ]
  },
  {
   "cell_type": "code",
   "execution_count": 32,
   "metadata": {},
   "outputs": [
    {
     "name": "stdout",
     "output_type": "stream",
     "text": [
      "Baldia Town\n"
     ]
    },
    {
     "ename": "KeyError",
     "evalue": "0",
     "output_type": "error",
     "traceback": [
      "\u001b[0;31m---------------------------------------------------------------------------\u001b[0m",
      "\u001b[0;31mKeyError\u001b[0m                                  Traceback (most recent call last)",
      "\u001b[0;32m<ipython-input-32-2983955832bb>\u001b[0m in \u001b[0;36m<module>\u001b[0;34m\u001b[0m\n\u001b[1;32m      1\u001b[0m khi_venues=getNearbyVenues(names=df_khi_cleaned['Neighbourhood'],\n\u001b[1;32m      2\u001b[0m                               \u001b[0mlatitudes\u001b[0m\u001b[0;34m=\u001b[0m\u001b[0mdf_khi_cleaned\u001b[0m\u001b[0;34m[\u001b[0m\u001b[0;34m'Latitude'\u001b[0m\u001b[0;34m]\u001b[0m\u001b[0;34m,\u001b[0m\u001b[0;34m\u001b[0m\u001b[0;34m\u001b[0m\u001b[0m\n\u001b[0;32m----> 3\u001b[0;31m                               longitudes=df_khi_cleaned['Longitude'])\n\u001b[0m",
      "\u001b[0;32m<ipython-input-31-fecf7c9dd94f>\u001b[0m in \u001b[0;36mgetNearbyVenues\u001b[0;34m(names, latitudes, longitudes, radius)\u001b[0m\n\u001b[1;32m     17\u001b[0m \u001b[0;34m\u001b[0m\u001b[0m\n\u001b[1;32m     18\u001b[0m         \u001b[0;31m# make the GET request\u001b[0m\u001b[0;34m\u001b[0m\u001b[0;34m\u001b[0m\u001b[0;34m\u001b[0m\u001b[0m\n\u001b[0;32m---> 19\u001b[0;31m         \u001b[0mresults\u001b[0m \u001b[0;34m=\u001b[0m \u001b[0mrequests\u001b[0m\u001b[0;34m.\u001b[0m\u001b[0mget\u001b[0m\u001b[0;34m(\u001b[0m\u001b[0murl\u001b[0m\u001b[0;34m)\u001b[0m\u001b[0;34m.\u001b[0m\u001b[0mjson\u001b[0m\u001b[0;34m(\u001b[0m\u001b[0;34m)\u001b[0m\u001b[0;34m[\u001b[0m\u001b[0;34m\"response\"\u001b[0m\u001b[0;34m]\u001b[0m\u001b[0;34m[\u001b[0m\u001b[0;36m0\u001b[0m\u001b[0;34m]\u001b[0m\u001b[0;34m[\u001b[0m\u001b[0;34m'items'\u001b[0m\u001b[0;34m]\u001b[0m\u001b[0;34m\u001b[0m\u001b[0;34m\u001b[0m\u001b[0m\n\u001b[0m\u001b[1;32m     20\u001b[0m \u001b[0;34m\u001b[0m\u001b[0m\n\u001b[1;32m     21\u001b[0m         \u001b[0;31m# return only relevant information for each nearby venue\u001b[0m\u001b[0;34m\u001b[0m\u001b[0;34m\u001b[0m\u001b[0;34m\u001b[0m\u001b[0m\n",
      "\u001b[0;31mKeyError\u001b[0m: 0"
     ]
    }
   ],
   "source": [
    "khi_venues=getNearbyVenues(names=df_khi_cleaned['Neighbourhood'],\n",
    "                              latitudes=df_khi_cleaned['Latitude'],\n",
    "                              longitudes=df_khi_cleaned['Longitude'])"
   ]
  },
  {
   "cell_type": "code",
   "execution_count": 28,
   "metadata": {
    "scrolled": true
   },
   "outputs": [
    {
     "ename": "NameError",
     "evalue": "name 'khi_venues' is not defined",
     "output_type": "error",
     "traceback": [
      "\u001b[0;31m---------------------------------------------------------------------------\u001b[0m",
      "\u001b[0;31mNameError\u001b[0m                                 Traceback (most recent call last)",
      "\u001b[0;32m<ipython-input-28-601eab426308>\u001b[0m in \u001b[0;36m<module>\u001b[0;34m\u001b[0m\n\u001b[0;32m----> 1\u001b[0;31m \u001b[0mkhi_venues\u001b[0m\u001b[0;34m\u001b[0m\u001b[0;34m\u001b[0m\u001b[0m\n\u001b[0m",
      "\u001b[0;31mNameError\u001b[0m: name 'khi_venues' is not defined"
     ]
    }
   ],
   "source": [
    "khi_venues"
   ]
  },
  {
   "cell_type": "markdown",
   "metadata": {},
   "source": [
    "# END OF WEEK 1"
   ]
  },
  {
   "cell_type": "markdown",
   "metadata": {},
   "source": [
    "# Now Moving to Methodology and Analysis"
   ]
  },
  {
   "cell_type": "code",
   "execution_count": null,
   "metadata": {},
   "outputs": [],
   "source": []
  },
  {
   "cell_type": "code",
   "execution_count": null,
   "metadata": {},
   "outputs": [],
   "source": []
  }
 ],
 "metadata": {
  "kernelspec": {
   "display_name": "Python 3",
   "language": "python",
   "name": "python3"
  },
  "language_info": {
   "codemirror_mode": {
    "name": "ipython",
    "version": 3
   },
   "file_extension": ".py",
   "mimetype": "text/x-python",
   "name": "python",
   "nbconvert_exporter": "python",
   "pygments_lexer": "ipython3",
   "version": "3.7.4"
  }
 },
 "nbformat": 4,
 "nbformat_minor": 2
}
